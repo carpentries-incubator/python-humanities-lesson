{
 "cells": [
  {
   "cell_type": "code",
   "execution_count": 13,
   "metadata": {
    "collapsed": true
   },
   "outputs": [],
   "source": [
    "import sqlite3\n"
   ]
  },
  {
   "cell_type": "code",
   "execution_count": 14,
   "metadata": {
    "collapsed": false
   },
   "outputs": [],
   "source": [
    "con =sqlite3.connect(\"portal_mammals.sqlite\")"
   ]
  },
  {
   "cell_type": "code",
   "execution_count": 15,
   "metadata": {
    "collapsed": false
   },
   "outputs": [],
   "source": [
    "cur=con.cursor()"
   ]
  },
  {
   "cell_type": "code",
   "execution_count": 16,
   "metadata": {
    "collapsed": false
   },
   "outputs": [
    {
     "name": "stdout",
     "output_type": "stream",
     "text": [
      "(u'AB', u'Amphispiza', u'bilineata', u'Bird')\n",
      "(u'AH', u'Ammospermophilus', u'harrisi', u'Rodent-not censused')\n",
      "(u'AS', u'Ammodramus', u'savannarum', u'Bird')\n",
      "(u'BA', u'Baiomys', u'taylori', u'Rodent')\n",
      "(u'CB', u'Campylorhynchus', u'brunneicapillus', u'Bird')\n",
      "(u'CM', u'Calamospiza', u'melanocorys', u'Bird')\n",
      "(u'CQ', u'Callipepla', u'squamata', u'Bird')\n",
      "(u'CS', u'Crotalus', u'scutalatus', u'Reptile')\n",
      "(u'CT', u'Cnemidophorus', u'tigris', u'Reptile')\n",
      "(u'CU', u'Cnemidophorus', u'uniparens', u'Reptile')\n",
      "(u'CV', u'Crotalus', u'viridis', u'Reptile')\n",
      "(u'DM', u'Dipodomys', u'merriami', u'Rodent')\n",
      "(u'DO', u'Dipodomys', u'ordii', u'Rodent')\n",
      "(u'DS', u'Dipodomys', u'spectabilis', u'Rodent')\n",
      "(u'DX', u'Dipodomys', u'sp.', u'Rodent')\n",
      "(u'EO', u'Eumeces', u'obsoletus', u'Reptile')\n",
      "(u'GS', u'Gambelia', u'silus', u'Reptile')\n",
      "(u'NA', u'Neotoma', u'albigula', u'Rodent')\n",
      "(u'NX', u'Neotoma', u'sp.', u'Rodent')\n",
      "(u'OL', u'Onychomys', u'leucogaster', u'Rodent')\n",
      "(u'OT', u'Onychomys', u'torridus', u'Rodent')\n",
      "(u'OX', u'Onychomys', u'sp.', u'Rodent')\n",
      "(u'PB', u'Chaetodipus', u'baileyi', u'Rodent')\n",
      "(u'PC', u'Pipilo', u'chlorurus', u'Bird')\n",
      "(u'PE', u'Peromyscus', u'eremicus', u'Rodent')\n",
      "(u'PF', u'Perognathus', u'flavus', u'Rodent')\n",
      "(u'PG', u'Pooecetes', u'gramineus', u'Bird')\n",
      "(u'PH', u'Perognathus', u'hispidus', u'Rodent')\n",
      "(u'PI', u'Chaetodipus', u'intermedius', u'Rodent')\n",
      "(u'PL', u'Peromyscus', u'leucopus', u'Rodent')\n",
      "(u'PM', u'Peromyscus', u'maniculatus', u'Rodent')\n",
      "(u'PP', u'Chaetodipus', u'penicillatus', u'Rodent')\n",
      "(u'PU', u'Pipilo', u'fuscus', u'Bird')\n",
      "(u'PX', u'Chaetodipus', u'sp.', u'Rodent')\n",
      "(u'RF', u'Reithrodontomys', u'fulvescens', u'Rodent')\n",
      "(u'RM', u'Reithrodontomys', u'megalotis', u'Rodent')\n",
      "(u'RO', u'Reithrodontomys', u'montanus', u'Rodent')\n",
      "(u'RX', u'Reithrodontomys', u'sp.', u'Rodent')\n",
      "(u'SA', u'Sylvilagus', u'audubonii', u'Rabbit')\n",
      "(u'SB', u'Spizella', u'breweri', u'Bird')\n",
      "(u'SC', u'Sceloporus', u'clarki', u'Reptile')\n",
      "(u'SF', u'Sigmodon', u'fulviventer', u'Rodent')\n",
      "(u'SH', u'Sigmodon', u'hispidus', u'Rodent')\n",
      "(u'SO', u'Sigmodon', u'ochrognathus', u'Rodent')\n",
      "(u'SS', u'Spermophilus', u'spilosoma', u'Rodent-not censused')\n",
      "(u'ST', u'Spermophilus', u'tereticaudus', u'Rodent-not censused')\n",
      "(u'SU', u'Sceloporus', u'undulatus', u'Reptile')\n",
      "(u'SX', u'Sigmodon', u'sp.', u'Rodent')\n",
      "(u'UL', u'Lizard', u'sp.', u'Reptile')\n",
      "(u'UP', u'Pipilo', u'sp.', u'Bird')\n",
      "(u'UR', u'Rodent', u'sp.', u'Rodent')\n",
      "(u'US', u'Sparrow', u'sp.', u'Bird')\n",
      "(u'XX', None, None, u'Zero Trapping Success')\n",
      "(u'ZL', u'Zonotrichia', u'leucophrys', u'Bird')\n",
      "(u'ZM', u'Zenaida', u'macroura', u'Bird')\n"
     ]
    }
   ],
   "source": [
    "for row in cur.execute('SELECT * FROM species;'):\n",
    "    print row"
   ]
  },
  {
   "cell_type": "code",
   "execution_count": 17,
   "metadata": {
    "collapsed": false
   },
   "outputs": [],
   "source": [
    "import pandas as pd"
   ]
  },
  {
   "cell_type": "code",
   "execution_count": 18,
   "metadata": {
    "collapsed": false
   },
   "outputs": [],
   "source": [
    "df= pd.read_sql_query(\"SELECT * FROM surveys\",con)"
   ]
  },
  {
   "cell_type": "code",
   "execution_count": 20,
   "metadata": {
    "collapsed": false
   },
   "outputs": [
    {
     "data": {
      "text/html": [
       "<div style=\"max-height:1000px;max-width:1500px;overflow:auto;\">\n",
       "<table border=\"1\" class=\"dataframe\">\n",
       "  <thead>\n",
       "    <tr style=\"text-align: right;\">\n",
       "      <th></th>\n",
       "      <th>record_id</th>\n",
       "      <th>month</th>\n",
       "      <th>day</th>\n",
       "      <th>year</th>\n",
       "      <th>plot</th>\n",
       "      <th>species</th>\n",
       "      <th>sex</th>\n",
       "      <th>wgt</th>\n",
       "    </tr>\n",
       "  </thead>\n",
       "  <tbody>\n",
       "    <tr>\n",
       "      <th>0</th>\n",
       "      <td>1</td>\n",
       "      <td>7</td>\n",
       "      <td>16</td>\n",
       "      <td>1977</td>\n",
       "      <td>2</td>\n",
       "      <td>NA</td>\n",
       "      <td>M</td>\n",
       "      <td>NaN</td>\n",
       "    </tr>\n",
       "    <tr>\n",
       "      <th>1</th>\n",
       "      <td>2</td>\n",
       "      <td>7</td>\n",
       "      <td>16</td>\n",
       "      <td>1977</td>\n",
       "      <td>3</td>\n",
       "      <td>NA</td>\n",
       "      <td>M</td>\n",
       "      <td>NaN</td>\n",
       "    </tr>\n",
       "    <tr>\n",
       "      <th>2</th>\n",
       "      <td>3</td>\n",
       "      <td>7</td>\n",
       "      <td>16</td>\n",
       "      <td>1977</td>\n",
       "      <td>2</td>\n",
       "      <td>DM</td>\n",
       "      <td>F</td>\n",
       "      <td>NaN</td>\n",
       "    </tr>\n",
       "    <tr>\n",
       "      <th>3</th>\n",
       "      <td>4</td>\n",
       "      <td>7</td>\n",
       "      <td>16</td>\n",
       "      <td>1977</td>\n",
       "      <td>7</td>\n",
       "      <td>DM</td>\n",
       "      <td>M</td>\n",
       "      <td>NaN</td>\n",
       "    </tr>\n",
       "    <tr>\n",
       "      <th>4</th>\n",
       "      <td>5</td>\n",
       "      <td>7</td>\n",
       "      <td>16</td>\n",
       "      <td>1977</td>\n",
       "      <td>3</td>\n",
       "      <td>DM</td>\n",
       "      <td>M</td>\n",
       "      <td>NaN</td>\n",
       "    </tr>\n",
       "  </tbody>\n",
       "</table>\n",
       "</div>"
      ],
      "text/plain": [
       "   record_id  month  day  year  plot species sex  wgt\n",
       "0          1      7   16  1977     2      NA   M  NaN\n",
       "1          2      7   16  1977     3      NA   M  NaN\n",
       "2          3      7   16  1977     2      DM   F  NaN\n",
       "3          4      7   16  1977     7      DM   M  NaN\n",
       "4          5      7   16  1977     3      DM   M  NaN"
      ]
     },
     "execution_count": 20,
     "metadata": {},
     "output_type": "execute_result"
    }
   ],
   "source": [
    "df.head()"
   ]
  },
  {
   "cell_type": "code",
   "execution_count": 21,
   "metadata": {
    "collapsed": true
   },
   "outputs": [],
   "source": [
    "con.close()"
   ]
  },
  {
   "cell_type": "code",
   "execution_count": null,
   "metadata": {
    "collapsed": true
   },
   "outputs": [],
   "source": []
  }
 ],
 "metadata": {
  "kernelspec": {
   "display_name": "Python 2",
   "language": "python",
   "name": "python2"
  },
  "language_info": {
   "codemirror_mode": {
    "name": "ipython",
    "version": 2
   },
   "file_extension": ".py",
   "mimetype": "text/x-python",
   "name": "python",
   "nbconvert_exporter": "python",
   "pygments_lexer": "ipython2",
   "version": "2.7.9"
  }
 },
 "nbformat": 4,
 "nbformat_minor": 0
}
